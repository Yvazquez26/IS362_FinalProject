{
 "cells": [
  {
   "cell_type": "markdown",
   "metadata": {},
   "source": [
    "# IS362 - FinalProject - Comparing Netflix and Hulu"
   ]
  },
  {
   "cell_type": "markdown",
   "metadata": {},
   "source": [
    "#### For my final project, I am analyzing genres between two popular streaming services companies; Netflix and Hulu. My motivation for this project came from wondering how movie directors and producers decide what streaming service to stream their movies and/or shows. During quarantine, I often relied on Netflix and Hulu to pass time. When I found myself in the mood to watch certain genres, I knew where to check first. "
   ]
  },
  {
   "cell_type": "code",
   "execution_count": 597,
   "metadata": {
    "scrolled": true
   },
   "outputs": [
    {
     "data": {
      "text/html": [
       "<img src=\"https://cdn57.androidauthority.net/wp-content/uploads/2019/04/Hulu-vs-netflix.jpg\"/>"
      ],
      "text/plain": [
       "<IPython.core.display.Image object>"
      ]
     },
     "execution_count": 597,
     "metadata": {},
     "output_type": "execute_result"
    }
   ],
   "source": [
    "from IPython.display import Image\n",
    "\n",
    "Image(url='https://cdn57.androidauthority.net/wp-content/uploads/2019/04/Hulu-vs-netflix.jpg')"
   ]
  },
  {
   "cell_type": "markdown",
   "metadata": {},
   "source": [
    "## First, I imported libraries"
   ]
  },
  {
   "cell_type": "code",
   "execution_count": 598,
   "metadata": {},
   "outputs": [],
   "source": [
    "import pandas as pd\n",
    "import numpy as np\n",
    "import matplotlib.pyplot as plt\n",
    "from matplotlib.pyplot import figure\n",
    "import seaborn as sns\n",
    "%matplotlib inline"
   ]
  },
  {
   "cell_type": "markdown",
   "metadata": {},
   "source": [
    "## Read the data. I was lucky to find a csv file that contained both Netflix and Hulu relational data and their genres. "
   ]
  },
  {
   "cell_type": "code",
   "execution_count": 599,
   "metadata": {},
   "outputs": [
    {
     "data": {
      "text/html": [
       "<div>\n",
       "<style scoped>\n",
       "    .dataframe tbody tr th:only-of-type {\n",
       "        vertical-align: middle;\n",
       "    }\n",
       "\n",
       "    .dataframe tbody tr th {\n",
       "        vertical-align: top;\n",
       "    }\n",
       "\n",
       "    .dataframe thead th {\n",
       "        text-align: right;\n",
       "    }\n",
       "</style>\n",
       "<table border=\"1\" class=\"dataframe\">\n",
       "  <thead>\n",
       "    <tr style=\"text-align: right;\">\n",
       "      <th></th>\n",
       "      <th>Unnamed: 0</th>\n",
       "      <th>ID</th>\n",
       "      <th>Title</th>\n",
       "      <th>Year</th>\n",
       "      <th>Age</th>\n",
       "      <th>IMDb</th>\n",
       "      <th>Rotten Tomatoes</th>\n",
       "      <th>Netflix</th>\n",
       "      <th>Hulu</th>\n",
       "      <th>Prime Video</th>\n",
       "      <th>Disney+</th>\n",
       "      <th>Type</th>\n",
       "      <th>Directors</th>\n",
       "      <th>Genres</th>\n",
       "      <th>Country</th>\n",
       "      <th>Language</th>\n",
       "      <th>Runtime</th>\n",
       "    </tr>\n",
       "  </thead>\n",
       "  <tbody>\n",
       "    <tr>\n",
       "      <th>0</th>\n",
       "      <td>0</td>\n",
       "      <td>1</td>\n",
       "      <td>Inception</td>\n",
       "      <td>2010</td>\n",
       "      <td>13+</td>\n",
       "      <td>8.8</td>\n",
       "      <td>87%</td>\n",
       "      <td>1</td>\n",
       "      <td>0</td>\n",
       "      <td>0</td>\n",
       "      <td>0</td>\n",
       "      <td>0</td>\n",
       "      <td>Christopher Nolan</td>\n",
       "      <td>Action,Adventure,Sci-Fi,Thriller</td>\n",
       "      <td>United States,United Kingdom</td>\n",
       "      <td>English,Japanese,French</td>\n",
       "      <td>148.0</td>\n",
       "    </tr>\n",
       "    <tr>\n",
       "      <th>1</th>\n",
       "      <td>1</td>\n",
       "      <td>2</td>\n",
       "      <td>The Matrix</td>\n",
       "      <td>1999</td>\n",
       "      <td>18+</td>\n",
       "      <td>8.7</td>\n",
       "      <td>87%</td>\n",
       "      <td>1</td>\n",
       "      <td>0</td>\n",
       "      <td>0</td>\n",
       "      <td>0</td>\n",
       "      <td>0</td>\n",
       "      <td>Lana Wachowski,Lilly Wachowski</td>\n",
       "      <td>Action,Sci-Fi</td>\n",
       "      <td>United States</td>\n",
       "      <td>English</td>\n",
       "      <td>136.0</td>\n",
       "    </tr>\n",
       "    <tr>\n",
       "      <th>2</th>\n",
       "      <td>2</td>\n",
       "      <td>3</td>\n",
       "      <td>Avengers: Infinity War</td>\n",
       "      <td>2018</td>\n",
       "      <td>13+</td>\n",
       "      <td>8.5</td>\n",
       "      <td>84%</td>\n",
       "      <td>1</td>\n",
       "      <td>0</td>\n",
       "      <td>0</td>\n",
       "      <td>0</td>\n",
       "      <td>0</td>\n",
       "      <td>Anthony Russo,Joe Russo</td>\n",
       "      <td>Action,Adventure,Sci-Fi</td>\n",
       "      <td>United States</td>\n",
       "      <td>English</td>\n",
       "      <td>149.0</td>\n",
       "    </tr>\n",
       "    <tr>\n",
       "      <th>3</th>\n",
       "      <td>3</td>\n",
       "      <td>4</td>\n",
       "      <td>Back to the Future</td>\n",
       "      <td>1985</td>\n",
       "      <td>7+</td>\n",
       "      <td>8.5</td>\n",
       "      <td>96%</td>\n",
       "      <td>1</td>\n",
       "      <td>0</td>\n",
       "      <td>0</td>\n",
       "      <td>0</td>\n",
       "      <td>0</td>\n",
       "      <td>Robert Zemeckis</td>\n",
       "      <td>Adventure,Comedy,Sci-Fi</td>\n",
       "      <td>United States</td>\n",
       "      <td>English</td>\n",
       "      <td>116.0</td>\n",
       "    </tr>\n",
       "    <tr>\n",
       "      <th>4</th>\n",
       "      <td>4</td>\n",
       "      <td>5</td>\n",
       "      <td>The Good, the Bad and the Ugly</td>\n",
       "      <td>1966</td>\n",
       "      <td>18+</td>\n",
       "      <td>8.8</td>\n",
       "      <td>97%</td>\n",
       "      <td>1</td>\n",
       "      <td>0</td>\n",
       "      <td>1</td>\n",
       "      <td>0</td>\n",
       "      <td>0</td>\n",
       "      <td>Sergio Leone</td>\n",
       "      <td>Western</td>\n",
       "      <td>Italy,Spain,West Germany</td>\n",
       "      <td>Italian</td>\n",
       "      <td>161.0</td>\n",
       "    </tr>\n",
       "    <tr>\n",
       "      <th>...</th>\n",
       "      <td>...</td>\n",
       "      <td>...</td>\n",
       "      <td>...</td>\n",
       "      <td>...</td>\n",
       "      <td>...</td>\n",
       "      <td>...</td>\n",
       "      <td>...</td>\n",
       "      <td>...</td>\n",
       "      <td>...</td>\n",
       "      <td>...</td>\n",
       "      <td>...</td>\n",
       "      <td>...</td>\n",
       "      <td>...</td>\n",
       "      <td>...</td>\n",
       "      <td>...</td>\n",
       "      <td>...</td>\n",
       "      <td>...</td>\n",
       "    </tr>\n",
       "    <tr>\n",
       "      <th>16739</th>\n",
       "      <td>16739</td>\n",
       "      <td>16740</td>\n",
       "      <td>The Ghosts of Buxley Hall</td>\n",
       "      <td>1980</td>\n",
       "      <td>NaN</td>\n",
       "      <td>6.2</td>\n",
       "      <td>NaN</td>\n",
       "      <td>0</td>\n",
       "      <td>0</td>\n",
       "      <td>0</td>\n",
       "      <td>1</td>\n",
       "      <td>0</td>\n",
       "      <td>Bruce Bilson</td>\n",
       "      <td>Comedy,Family,Fantasy,Horror</td>\n",
       "      <td>United States</td>\n",
       "      <td>English</td>\n",
       "      <td>120.0</td>\n",
       "    </tr>\n",
       "    <tr>\n",
       "      <th>16740</th>\n",
       "      <td>16740</td>\n",
       "      <td>16741</td>\n",
       "      <td>The Poof Point</td>\n",
       "      <td>2001</td>\n",
       "      <td>7+</td>\n",
       "      <td>4.7</td>\n",
       "      <td>NaN</td>\n",
       "      <td>0</td>\n",
       "      <td>0</td>\n",
       "      <td>0</td>\n",
       "      <td>1</td>\n",
       "      <td>0</td>\n",
       "      <td>Neal Israel</td>\n",
       "      <td>Comedy,Family,Sci-Fi</td>\n",
       "      <td>United States</td>\n",
       "      <td>English</td>\n",
       "      <td>90.0</td>\n",
       "    </tr>\n",
       "    <tr>\n",
       "      <th>16741</th>\n",
       "      <td>16741</td>\n",
       "      <td>16742</td>\n",
       "      <td>Sharks of Lost Island</td>\n",
       "      <td>2013</td>\n",
       "      <td>NaN</td>\n",
       "      <td>5.7</td>\n",
       "      <td>NaN</td>\n",
       "      <td>0</td>\n",
       "      <td>0</td>\n",
       "      <td>0</td>\n",
       "      <td>1</td>\n",
       "      <td>0</td>\n",
       "      <td>Neil Gelinas</td>\n",
       "      <td>Documentary</td>\n",
       "      <td>United States</td>\n",
       "      <td>English</td>\n",
       "      <td>NaN</td>\n",
       "    </tr>\n",
       "    <tr>\n",
       "      <th>16742</th>\n",
       "      <td>16742</td>\n",
       "      <td>16743</td>\n",
       "      <td>Man Among Cheetahs</td>\n",
       "      <td>2017</td>\n",
       "      <td>NaN</td>\n",
       "      <td>6.6</td>\n",
       "      <td>NaN</td>\n",
       "      <td>0</td>\n",
       "      <td>0</td>\n",
       "      <td>0</td>\n",
       "      <td>1</td>\n",
       "      <td>0</td>\n",
       "      <td>Richard Slater-Jones</td>\n",
       "      <td>Documentary</td>\n",
       "      <td>United States</td>\n",
       "      <td>English</td>\n",
       "      <td>NaN</td>\n",
       "    </tr>\n",
       "    <tr>\n",
       "      <th>16743</th>\n",
       "      <td>16743</td>\n",
       "      <td>16744</td>\n",
       "      <td>In Beaver Valley</td>\n",
       "      <td>1950</td>\n",
       "      <td>NaN</td>\n",
       "      <td>NaN</td>\n",
       "      <td>NaN</td>\n",
       "      <td>0</td>\n",
       "      <td>0</td>\n",
       "      <td>0</td>\n",
       "      <td>1</td>\n",
       "      <td>0</td>\n",
       "      <td>James Algar</td>\n",
       "      <td>Documentary,Short,Family</td>\n",
       "      <td>United States</td>\n",
       "      <td>English</td>\n",
       "      <td>32.0</td>\n",
       "    </tr>\n",
       "  </tbody>\n",
       "</table>\n",
       "<p>16744 rows × 17 columns</p>\n",
       "</div>"
      ],
      "text/plain": [
       "       Unnamed: 0     ID                           Title  Year  Age  IMDb  \\\n",
       "0               0      1                       Inception  2010  13+   8.8   \n",
       "1               1      2                      The Matrix  1999  18+   8.7   \n",
       "2               2      3          Avengers: Infinity War  2018  13+   8.5   \n",
       "3               3      4              Back to the Future  1985   7+   8.5   \n",
       "4               4      5  The Good, the Bad and the Ugly  1966  18+   8.8   \n",
       "...           ...    ...                             ...   ...  ...   ...   \n",
       "16739       16739  16740       The Ghosts of Buxley Hall  1980  NaN   6.2   \n",
       "16740       16740  16741                  The Poof Point  2001   7+   4.7   \n",
       "16741       16741  16742           Sharks of Lost Island  2013  NaN   5.7   \n",
       "16742       16742  16743              Man Among Cheetahs  2017  NaN   6.6   \n",
       "16743       16743  16744                In Beaver Valley  1950  NaN   NaN   \n",
       "\n",
       "      Rotten Tomatoes  Netflix  Hulu  Prime Video  Disney+  Type  \\\n",
       "0                 87%        1     0            0        0     0   \n",
       "1                 87%        1     0            0        0     0   \n",
       "2                 84%        1     0            0        0     0   \n",
       "3                 96%        1     0            0        0     0   \n",
       "4                 97%        1     0            1        0     0   \n",
       "...               ...      ...   ...          ...      ...   ...   \n",
       "16739             NaN        0     0            0        1     0   \n",
       "16740             NaN        0     0            0        1     0   \n",
       "16741             NaN        0     0            0        1     0   \n",
       "16742             NaN        0     0            0        1     0   \n",
       "16743             NaN        0     0            0        1     0   \n",
       "\n",
       "                            Directors                            Genres  \\\n",
       "0                   Christopher Nolan  Action,Adventure,Sci-Fi,Thriller   \n",
       "1      Lana Wachowski,Lilly Wachowski                     Action,Sci-Fi   \n",
       "2             Anthony Russo,Joe Russo           Action,Adventure,Sci-Fi   \n",
       "3                     Robert Zemeckis           Adventure,Comedy,Sci-Fi   \n",
       "4                        Sergio Leone                           Western   \n",
       "...                               ...                               ...   \n",
       "16739                    Bruce Bilson      Comedy,Family,Fantasy,Horror   \n",
       "16740                     Neal Israel              Comedy,Family,Sci-Fi   \n",
       "16741                    Neil Gelinas                       Documentary   \n",
       "16742            Richard Slater-Jones                       Documentary   \n",
       "16743                     James Algar          Documentary,Short,Family   \n",
       "\n",
       "                            Country                 Language  Runtime  \n",
       "0      United States,United Kingdom  English,Japanese,French    148.0  \n",
       "1                     United States                  English    136.0  \n",
       "2                     United States                  English    149.0  \n",
       "3                     United States                  English    116.0  \n",
       "4          Italy,Spain,West Germany                  Italian    161.0  \n",
       "...                             ...                      ...      ...  \n",
       "16739                 United States                  English    120.0  \n",
       "16740                 United States                  English     90.0  \n",
       "16741                 United States                  English      NaN  \n",
       "16742                 United States                  English      NaN  \n",
       "16743                 United States                  English     32.0  \n",
       "\n",
       "[16744 rows x 17 columns]"
      ]
     },
     "execution_count": 599,
     "metadata": {},
     "output_type": "execute_result"
    }
   ],
   "source": [
    "df = pd.read_csv('/Users/jonathan/Documents/MoviesOnStreamingPlatforms_updated.csv', engine='python')\n",
    "df"
   ]
  },
  {
   "cell_type": "markdown",
   "metadata": {},
   "source": [
    "## Deleted any NaN values."
   ]
  },
  {
   "cell_type": "code",
   "execution_count": 600,
   "metadata": {},
   "outputs": [
    {
     "data": {
      "text/html": [
       "<div>\n",
       "<style scoped>\n",
       "    .dataframe tbody tr th:only-of-type {\n",
       "        vertical-align: middle;\n",
       "    }\n",
       "\n",
       "    .dataframe tbody tr th {\n",
       "        vertical-align: top;\n",
       "    }\n",
       "\n",
       "    .dataframe thead th {\n",
       "        text-align: right;\n",
       "    }\n",
       "</style>\n",
       "<table border=\"1\" class=\"dataframe\">\n",
       "  <thead>\n",
       "    <tr style=\"text-align: right;\">\n",
       "      <th></th>\n",
       "      <th>Unnamed: 0</th>\n",
       "      <th>ID</th>\n",
       "      <th>Title</th>\n",
       "      <th>Year</th>\n",
       "      <th>Age</th>\n",
       "      <th>IMDb</th>\n",
       "      <th>Rotten Tomatoes</th>\n",
       "      <th>Netflix</th>\n",
       "      <th>Hulu</th>\n",
       "      <th>Prime Video</th>\n",
       "      <th>Disney+</th>\n",
       "      <th>Type</th>\n",
       "      <th>Directors</th>\n",
       "      <th>Genres</th>\n",
       "      <th>Country</th>\n",
       "      <th>Language</th>\n",
       "      <th>Runtime</th>\n",
       "    </tr>\n",
       "  </thead>\n",
       "  <tbody>\n",
       "    <tr>\n",
       "      <th>0</th>\n",
       "      <td>0</td>\n",
       "      <td>1</td>\n",
       "      <td>Inception</td>\n",
       "      <td>2010</td>\n",
       "      <td>13+</td>\n",
       "      <td>8.8</td>\n",
       "      <td>87%</td>\n",
       "      <td>1</td>\n",
       "      <td>0</td>\n",
       "      <td>0</td>\n",
       "      <td>0</td>\n",
       "      <td>0</td>\n",
       "      <td>Christopher Nolan</td>\n",
       "      <td>Action,Adventure,Sci-Fi,Thriller</td>\n",
       "      <td>United States,United Kingdom</td>\n",
       "      <td>English,Japanese,French</td>\n",
       "      <td>148.0</td>\n",
       "    </tr>\n",
       "    <tr>\n",
       "      <th>1</th>\n",
       "      <td>1</td>\n",
       "      <td>2</td>\n",
       "      <td>The Matrix</td>\n",
       "      <td>1999</td>\n",
       "      <td>18+</td>\n",
       "      <td>8.7</td>\n",
       "      <td>87%</td>\n",
       "      <td>1</td>\n",
       "      <td>0</td>\n",
       "      <td>0</td>\n",
       "      <td>0</td>\n",
       "      <td>0</td>\n",
       "      <td>Lana Wachowski,Lilly Wachowski</td>\n",
       "      <td>Action,Sci-Fi</td>\n",
       "      <td>United States</td>\n",
       "      <td>English</td>\n",
       "      <td>136.0</td>\n",
       "    </tr>\n",
       "    <tr>\n",
       "      <th>2</th>\n",
       "      <td>2</td>\n",
       "      <td>3</td>\n",
       "      <td>Avengers: Infinity War</td>\n",
       "      <td>2018</td>\n",
       "      <td>13+</td>\n",
       "      <td>8.5</td>\n",
       "      <td>84%</td>\n",
       "      <td>1</td>\n",
       "      <td>0</td>\n",
       "      <td>0</td>\n",
       "      <td>0</td>\n",
       "      <td>0</td>\n",
       "      <td>Anthony Russo,Joe Russo</td>\n",
       "      <td>Action,Adventure,Sci-Fi</td>\n",
       "      <td>United States</td>\n",
       "      <td>English</td>\n",
       "      <td>149.0</td>\n",
       "    </tr>\n",
       "    <tr>\n",
       "      <th>3</th>\n",
       "      <td>3</td>\n",
       "      <td>4</td>\n",
       "      <td>Back to the Future</td>\n",
       "      <td>1985</td>\n",
       "      <td>7+</td>\n",
       "      <td>8.5</td>\n",
       "      <td>96%</td>\n",
       "      <td>1</td>\n",
       "      <td>0</td>\n",
       "      <td>0</td>\n",
       "      <td>0</td>\n",
       "      <td>0</td>\n",
       "      <td>Robert Zemeckis</td>\n",
       "      <td>Adventure,Comedy,Sci-Fi</td>\n",
       "      <td>United States</td>\n",
       "      <td>English</td>\n",
       "      <td>116.0</td>\n",
       "    </tr>\n",
       "    <tr>\n",
       "      <th>4</th>\n",
       "      <td>4</td>\n",
       "      <td>5</td>\n",
       "      <td>The Good, the Bad and the Ugly</td>\n",
       "      <td>1966</td>\n",
       "      <td>18+</td>\n",
       "      <td>8.8</td>\n",
       "      <td>97%</td>\n",
       "      <td>1</td>\n",
       "      <td>0</td>\n",
       "      <td>1</td>\n",
       "      <td>0</td>\n",
       "      <td>0</td>\n",
       "      <td>Sergio Leone</td>\n",
       "      <td>Western</td>\n",
       "      <td>Italy,Spain,West Germany</td>\n",
       "      <td>Italian</td>\n",
       "      <td>161.0</td>\n",
       "    </tr>\n",
       "    <tr>\n",
       "      <th>...</th>\n",
       "      <td>...</td>\n",
       "      <td>...</td>\n",
       "      <td>...</td>\n",
       "      <td>...</td>\n",
       "      <td>...</td>\n",
       "      <td>...</td>\n",
       "      <td>...</td>\n",
       "      <td>...</td>\n",
       "      <td>...</td>\n",
       "      <td>...</td>\n",
       "      <td>...</td>\n",
       "      <td>...</td>\n",
       "      <td>...</td>\n",
       "      <td>...</td>\n",
       "      <td>...</td>\n",
       "      <td>...</td>\n",
       "      <td>...</td>\n",
       "    </tr>\n",
       "    <tr>\n",
       "      <th>16739</th>\n",
       "      <td>16739</td>\n",
       "      <td>16740</td>\n",
       "      <td>The Ghosts of Buxley Hall</td>\n",
       "      <td>1980</td>\n",
       "      <td>0</td>\n",
       "      <td>6.2</td>\n",
       "      <td>0</td>\n",
       "      <td>0</td>\n",
       "      <td>0</td>\n",
       "      <td>0</td>\n",
       "      <td>1</td>\n",
       "      <td>0</td>\n",
       "      <td>Bruce Bilson</td>\n",
       "      <td>Comedy,Family,Fantasy,Horror</td>\n",
       "      <td>United States</td>\n",
       "      <td>English</td>\n",
       "      <td>120.0</td>\n",
       "    </tr>\n",
       "    <tr>\n",
       "      <th>16740</th>\n",
       "      <td>16740</td>\n",
       "      <td>16741</td>\n",
       "      <td>The Poof Point</td>\n",
       "      <td>2001</td>\n",
       "      <td>7+</td>\n",
       "      <td>4.7</td>\n",
       "      <td>0</td>\n",
       "      <td>0</td>\n",
       "      <td>0</td>\n",
       "      <td>0</td>\n",
       "      <td>1</td>\n",
       "      <td>0</td>\n",
       "      <td>Neal Israel</td>\n",
       "      <td>Comedy,Family,Sci-Fi</td>\n",
       "      <td>United States</td>\n",
       "      <td>English</td>\n",
       "      <td>90.0</td>\n",
       "    </tr>\n",
       "    <tr>\n",
       "      <th>16741</th>\n",
       "      <td>16741</td>\n",
       "      <td>16742</td>\n",
       "      <td>Sharks of Lost Island</td>\n",
       "      <td>2013</td>\n",
       "      <td>0</td>\n",
       "      <td>5.7</td>\n",
       "      <td>0</td>\n",
       "      <td>0</td>\n",
       "      <td>0</td>\n",
       "      <td>0</td>\n",
       "      <td>1</td>\n",
       "      <td>0</td>\n",
       "      <td>Neil Gelinas</td>\n",
       "      <td>Documentary</td>\n",
       "      <td>United States</td>\n",
       "      <td>English</td>\n",
       "      <td>0.0</td>\n",
       "    </tr>\n",
       "    <tr>\n",
       "      <th>16742</th>\n",
       "      <td>16742</td>\n",
       "      <td>16743</td>\n",
       "      <td>Man Among Cheetahs</td>\n",
       "      <td>2017</td>\n",
       "      <td>0</td>\n",
       "      <td>6.6</td>\n",
       "      <td>0</td>\n",
       "      <td>0</td>\n",
       "      <td>0</td>\n",
       "      <td>0</td>\n",
       "      <td>1</td>\n",
       "      <td>0</td>\n",
       "      <td>Richard Slater-Jones</td>\n",
       "      <td>Documentary</td>\n",
       "      <td>United States</td>\n",
       "      <td>English</td>\n",
       "      <td>0.0</td>\n",
       "    </tr>\n",
       "    <tr>\n",
       "      <th>16743</th>\n",
       "      <td>16743</td>\n",
       "      <td>16744</td>\n",
       "      <td>In Beaver Valley</td>\n",
       "      <td>1950</td>\n",
       "      <td>0</td>\n",
       "      <td>0.0</td>\n",
       "      <td>0</td>\n",
       "      <td>0</td>\n",
       "      <td>0</td>\n",
       "      <td>0</td>\n",
       "      <td>1</td>\n",
       "      <td>0</td>\n",
       "      <td>James Algar</td>\n",
       "      <td>Documentary,Short,Family</td>\n",
       "      <td>United States</td>\n",
       "      <td>English</td>\n",
       "      <td>32.0</td>\n",
       "    </tr>\n",
       "  </tbody>\n",
       "</table>\n",
       "<p>16744 rows × 17 columns</p>\n",
       "</div>"
      ],
      "text/plain": [
       "       Unnamed: 0     ID                           Title  Year  Age  IMDb  \\\n",
       "0               0      1                       Inception  2010  13+   8.8   \n",
       "1               1      2                      The Matrix  1999  18+   8.7   \n",
       "2               2      3          Avengers: Infinity War  2018  13+   8.5   \n",
       "3               3      4              Back to the Future  1985   7+   8.5   \n",
       "4               4      5  The Good, the Bad and the Ugly  1966  18+   8.8   \n",
       "...           ...    ...                             ...   ...  ...   ...   \n",
       "16739       16739  16740       The Ghosts of Buxley Hall  1980    0   6.2   \n",
       "16740       16740  16741                  The Poof Point  2001   7+   4.7   \n",
       "16741       16741  16742           Sharks of Lost Island  2013    0   5.7   \n",
       "16742       16742  16743              Man Among Cheetahs  2017    0   6.6   \n",
       "16743       16743  16744                In Beaver Valley  1950    0   0.0   \n",
       "\n",
       "      Rotten Tomatoes  Netflix  Hulu  Prime Video  Disney+  Type  \\\n",
       "0                 87%        1     0            0        0     0   \n",
       "1                 87%        1     0            0        0     0   \n",
       "2                 84%        1     0            0        0     0   \n",
       "3                 96%        1     0            0        0     0   \n",
       "4                 97%        1     0            1        0     0   \n",
       "...               ...      ...   ...          ...      ...   ...   \n",
       "16739               0        0     0            0        1     0   \n",
       "16740               0        0     0            0        1     0   \n",
       "16741               0        0     0            0        1     0   \n",
       "16742               0        0     0            0        1     0   \n",
       "16743               0        0     0            0        1     0   \n",
       "\n",
       "                            Directors                            Genres  \\\n",
       "0                   Christopher Nolan  Action,Adventure,Sci-Fi,Thriller   \n",
       "1      Lana Wachowski,Lilly Wachowski                     Action,Sci-Fi   \n",
       "2             Anthony Russo,Joe Russo           Action,Adventure,Sci-Fi   \n",
       "3                     Robert Zemeckis           Adventure,Comedy,Sci-Fi   \n",
       "4                        Sergio Leone                           Western   \n",
       "...                               ...                               ...   \n",
       "16739                    Bruce Bilson      Comedy,Family,Fantasy,Horror   \n",
       "16740                     Neal Israel              Comedy,Family,Sci-Fi   \n",
       "16741                    Neil Gelinas                       Documentary   \n",
       "16742            Richard Slater-Jones                       Documentary   \n",
       "16743                     James Algar          Documentary,Short,Family   \n",
       "\n",
       "                            Country                 Language  Runtime  \n",
       "0      United States,United Kingdom  English,Japanese,French    148.0  \n",
       "1                     United States                  English    136.0  \n",
       "2                     United States                  English    149.0  \n",
       "3                     United States                  English    116.0  \n",
       "4          Italy,Spain,West Germany                  Italian    161.0  \n",
       "...                             ...                      ...      ...  \n",
       "16739                 United States                  English    120.0  \n",
       "16740                 United States                  English     90.0  \n",
       "16741                 United States                  English      0.0  \n",
       "16742                 United States                  English      0.0  \n",
       "16743                 United States                  English     32.0  \n",
       "\n",
       "[16744 rows x 17 columns]"
      ]
     },
     "execution_count": 600,
     "metadata": {},
     "output_type": "execute_result"
    }
   ],
   "source": [
    "df.fillna(value=0, inplace=True)\n",
    "df"
   ]
  },
  {
   "cell_type": "markdown",
   "metadata": {},
   "source": [
    "## Deleted the unnecessary columns"
   ]
  },
  {
   "cell_type": "code",
   "execution_count": 601,
   "metadata": {},
   "outputs": [],
   "source": [
    "df.drop(columns=['Unnamed: 0'], inplace=True)  \n",
    "df.drop(columns=['ID'], inplace=True)\n",
    "df.drop(columns=['Age'], inplace=True)\n",
    "df.drop(columns=['IMDb'], inplace=True)\n",
    "df.drop(columns=['Rotten Tomatoes'], inplace=True)\n",
    "df.drop(columns=['Prime Video'], inplace=True)\n",
    "df.drop(columns=['Disney+'], inplace=True)\n",
    "df.drop(columns=['Type'], inplace=True)\n",
    "df.drop(columns=['Directors'], inplace=True)\n",
    "df.drop(columns=['Runtime'], inplace=True)"
   ]
  },
  {
   "cell_type": "code",
   "execution_count": 602,
   "metadata": {},
   "outputs": [
    {
     "data": {
      "text/html": [
       "<div>\n",
       "<style scoped>\n",
       "    .dataframe tbody tr th:only-of-type {\n",
       "        vertical-align: middle;\n",
       "    }\n",
       "\n",
       "    .dataframe tbody tr th {\n",
       "        vertical-align: top;\n",
       "    }\n",
       "\n",
       "    .dataframe thead th {\n",
       "        text-align: right;\n",
       "    }\n",
       "</style>\n",
       "<table border=\"1\" class=\"dataframe\">\n",
       "  <thead>\n",
       "    <tr style=\"text-align: right;\">\n",
       "      <th></th>\n",
       "      <th>Title</th>\n",
       "      <th>Year</th>\n",
       "      <th>Netflix</th>\n",
       "      <th>Hulu</th>\n",
       "      <th>Genres</th>\n",
       "      <th>Country</th>\n",
       "      <th>Language</th>\n",
       "    </tr>\n",
       "  </thead>\n",
       "  <tbody>\n",
       "    <tr>\n",
       "      <th>0</th>\n",
       "      <td>Inception</td>\n",
       "      <td>2010</td>\n",
       "      <td>1</td>\n",
       "      <td>0</td>\n",
       "      <td>Action,Adventure,Sci-Fi,Thriller</td>\n",
       "      <td>United States,United Kingdom</td>\n",
       "      <td>English,Japanese,French</td>\n",
       "    </tr>\n",
       "    <tr>\n",
       "      <th>1</th>\n",
       "      <td>The Matrix</td>\n",
       "      <td>1999</td>\n",
       "      <td>1</td>\n",
       "      <td>0</td>\n",
       "      <td>Action,Sci-Fi</td>\n",
       "      <td>United States</td>\n",
       "      <td>English</td>\n",
       "    </tr>\n",
       "    <tr>\n",
       "      <th>2</th>\n",
       "      <td>Avengers: Infinity War</td>\n",
       "      <td>2018</td>\n",
       "      <td>1</td>\n",
       "      <td>0</td>\n",
       "      <td>Action,Adventure,Sci-Fi</td>\n",
       "      <td>United States</td>\n",
       "      <td>English</td>\n",
       "    </tr>\n",
       "    <tr>\n",
       "      <th>3</th>\n",
       "      <td>Back to the Future</td>\n",
       "      <td>1985</td>\n",
       "      <td>1</td>\n",
       "      <td>0</td>\n",
       "      <td>Adventure,Comedy,Sci-Fi</td>\n",
       "      <td>United States</td>\n",
       "      <td>English</td>\n",
       "    </tr>\n",
       "    <tr>\n",
       "      <th>4</th>\n",
       "      <td>The Good, the Bad and the Ugly</td>\n",
       "      <td>1966</td>\n",
       "      <td>1</td>\n",
       "      <td>0</td>\n",
       "      <td>Western</td>\n",
       "      <td>Italy,Spain,West Germany</td>\n",
       "      <td>Italian</td>\n",
       "    </tr>\n",
       "    <tr>\n",
       "      <th>...</th>\n",
       "      <td>...</td>\n",
       "      <td>...</td>\n",
       "      <td>...</td>\n",
       "      <td>...</td>\n",
       "      <td>...</td>\n",
       "      <td>...</td>\n",
       "      <td>...</td>\n",
       "    </tr>\n",
       "    <tr>\n",
       "      <th>16739</th>\n",
       "      <td>The Ghosts of Buxley Hall</td>\n",
       "      <td>1980</td>\n",
       "      <td>0</td>\n",
       "      <td>0</td>\n",
       "      <td>Comedy,Family,Fantasy,Horror</td>\n",
       "      <td>United States</td>\n",
       "      <td>English</td>\n",
       "    </tr>\n",
       "    <tr>\n",
       "      <th>16740</th>\n",
       "      <td>The Poof Point</td>\n",
       "      <td>2001</td>\n",
       "      <td>0</td>\n",
       "      <td>0</td>\n",
       "      <td>Comedy,Family,Sci-Fi</td>\n",
       "      <td>United States</td>\n",
       "      <td>English</td>\n",
       "    </tr>\n",
       "    <tr>\n",
       "      <th>16741</th>\n",
       "      <td>Sharks of Lost Island</td>\n",
       "      <td>2013</td>\n",
       "      <td>0</td>\n",
       "      <td>0</td>\n",
       "      <td>Documentary</td>\n",
       "      <td>United States</td>\n",
       "      <td>English</td>\n",
       "    </tr>\n",
       "    <tr>\n",
       "      <th>16742</th>\n",
       "      <td>Man Among Cheetahs</td>\n",
       "      <td>2017</td>\n",
       "      <td>0</td>\n",
       "      <td>0</td>\n",
       "      <td>Documentary</td>\n",
       "      <td>United States</td>\n",
       "      <td>English</td>\n",
       "    </tr>\n",
       "    <tr>\n",
       "      <th>16743</th>\n",
       "      <td>In Beaver Valley</td>\n",
       "      <td>1950</td>\n",
       "      <td>0</td>\n",
       "      <td>0</td>\n",
       "      <td>Documentary,Short,Family</td>\n",
       "      <td>United States</td>\n",
       "      <td>English</td>\n",
       "    </tr>\n",
       "  </tbody>\n",
       "</table>\n",
       "<p>16744 rows × 7 columns</p>\n",
       "</div>"
      ],
      "text/plain": [
       "                                Title  Year  Netflix  Hulu  \\\n",
       "0                           Inception  2010        1     0   \n",
       "1                          The Matrix  1999        1     0   \n",
       "2              Avengers: Infinity War  2018        1     0   \n",
       "3                  Back to the Future  1985        1     0   \n",
       "4      The Good, the Bad and the Ugly  1966        1     0   \n",
       "...                               ...   ...      ...   ...   \n",
       "16739       The Ghosts of Buxley Hall  1980        0     0   \n",
       "16740                  The Poof Point  2001        0     0   \n",
       "16741           Sharks of Lost Island  2013        0     0   \n",
       "16742              Man Among Cheetahs  2017        0     0   \n",
       "16743                In Beaver Valley  1950        0     0   \n",
       "\n",
       "                                 Genres                       Country  \\\n",
       "0      Action,Adventure,Sci-Fi,Thriller  United States,United Kingdom   \n",
       "1                         Action,Sci-Fi                 United States   \n",
       "2               Action,Adventure,Sci-Fi                 United States   \n",
       "3               Adventure,Comedy,Sci-Fi                 United States   \n",
       "4                               Western      Italy,Spain,West Germany   \n",
       "...                                 ...                           ...   \n",
       "16739      Comedy,Family,Fantasy,Horror                 United States   \n",
       "16740              Comedy,Family,Sci-Fi                 United States   \n",
       "16741                       Documentary                 United States   \n",
       "16742                       Documentary                 United States   \n",
       "16743          Documentary,Short,Family                 United States   \n",
       "\n",
       "                      Language  \n",
       "0      English,Japanese,French  \n",
       "1                      English  \n",
       "2                      English  \n",
       "3                      English  \n",
       "4                      Italian  \n",
       "...                        ...  \n",
       "16739                  English  \n",
       "16740                  English  \n",
       "16741                  English  \n",
       "16742                  English  \n",
       "16743                  English  \n",
       "\n",
       "[16744 rows x 7 columns]"
      ]
     },
     "execution_count": 602,
     "metadata": {},
     "output_type": "execute_result"
    }
   ],
   "source": [
    "df"
   ]
  },
  {
   "cell_type": "markdown",
   "metadata": {},
   "source": [
    "## Started with Hulu's relational data. "
   ]
  },
  {
   "cell_type": "code",
   "execution_count": 603,
   "metadata": {},
   "outputs": [],
   "source": [
    "df_hulu = df[df['Hulu'] == 1]"
   ]
  },
  {
   "cell_type": "code",
   "execution_count": 604,
   "metadata": {},
   "outputs": [],
   "source": [
    "from collections import Counter\n",
    "\n",
    "def return_counter(data_frame, column_name, limit):    \n",
    "    print(dict(Counter(data_frame[column_name].values).most_common(limit)))"
   ]
  },
  {
   "cell_type": "code",
   "execution_count": 605,
   "metadata": {},
   "outputs": [
    {
     "name": "stdout",
     "output_type": "stream",
     "text": [
      "{'English': 607, 'English,Spanish': 27, 'Japanese': 19, 'English,French': 18, 0: 15, 'Spanish': 8, 'English,Mandarin': 7, 'French': 6, 'English,Italian': 5, 'Korean': 5, 'English,Korean': 4, 'English,Klingon': 4, 'Spanish,English': 4, 'English,French,German': 4, 'French,English': 4, 'English,Russian': 4, 'Japanese,English': 4, 'Korean,English': 3, 'English,Latin': 3, 'English,Japanese': 3}\n"
     ]
    }
   ],
   "source": [
    "return_counter(df_hulu, 'Language', 20)"
   ]
  },
  {
   "cell_type": "code",
   "execution_count": 606,
   "metadata": {},
   "outputs": [
    {
     "data": {
      "text/plain": [
       "English                                                     607\n",
       "English,Spanish                                              27\n",
       "Japanese                                                     19\n",
       "English,French                                               18\n",
       "0                                                            15\n",
       "                                                           ... \n",
       "English,Spanish,Norwegian,French,Korean,Greek,Vietnamese      1\n",
       "English,Croatian,Chinese                                      1\n",
       "English,Punjabi,Hindi,German                                  1\n",
       "English,Armenian                                              1\n",
       "Persian                                                       1\n",
       "Name: Language, Length: 151, dtype: int64"
      ]
     },
     "execution_count": 606,
     "metadata": {},
     "output_type": "execute_result"
    }
   ],
   "source": [
    "df_hulu['Language'].value_counts()"
   ]
  },
  {
   "cell_type": "code",
   "execution_count": 607,
   "metadata": {},
   "outputs": [
    {
     "data": {
      "image/png": "[encoded data removed]",
      "text/plain": [
       "<Figure size 432x288 with 1 Axes>"
      ]
     },
     "metadata": {},
     "output_type": "display_data"
    }
   ],
   "source": [
    "fig = plt.figure()\n",
    "ax = fig.add_axes([0,0,1,1])\n",
    "ax.axis('equal')\n",
    "languages = ['English', 'English,Spanish ', 'Japanese', 'English,French', 'Not labeled']\n",
    "titles = [607, 27, 19, 18, 15]\n",
    "ax.pie(titles, labels = languages,autopct='%1.2f%%')\n",
    "plt.show()"
   ]
  },
  {
   "cell_type": "code",
   "execution_count": 608,
   "metadata": {},
   "outputs": [
    {
     "name": "stdout",
     "output_type": "stream",
     "text": [
      "{'Documentary': 75, 'Drama': 44, 'Comedy,Drama': 38, 'Comedy': 36, 'Drama,Romance': 30, 'Comedy,Drama,Romance': 30, 'Horror,Thriller': 21, 'Comedy,Romance': 20, 'Drama,Thriller': 15, 'Horror': 13, 'Drama,Horror,Thriller': 11, 'Crime,Drama,Thriller': 11, 'Family': 10, 'Animation,Adventure,Comedy,Family,Fantasy': 9, 'Horror,Mystery,Thriller': 9, 'Crime,Drama,Mystery,Thriller': 8, 'Action,Crime,Drama,Thriller': 7, 'Drama,Mystery,Thriller': 7, 'Documentary,Music': 7, 'Biography,Drama': 7}\n"
     ]
    }
   ],
   "source": [
    "return_counter(df_hulu, 'Genres', 20)"
   ]
  },
  {
   "cell_type": "code",
   "execution_count": 609,
   "metadata": {},
   "outputs": [
    {
     "data": {
      "text/plain": [
       "Documentary                                        75\n",
       "Drama                                              44\n",
       "Comedy,Drama                                       38\n",
       "Comedy                                             36\n",
       "Drama,Romance                                      30\n",
       "                                                   ..\n",
       "Animation,Drama,Sci-Fi,Thriller                     1\n",
       "Animation,Action,Adventure,Fantasy,Sci-Fi           1\n",
       "Mystery                                             1\n",
       "Documentary,Comedy,Drama,Family,Fantasy,Romance     1\n",
       "Action,Drama,Thriller,War                           1\n",
       "Name: Genres, Length: 327, dtype: int64"
      ]
     },
     "execution_count": 609,
     "metadata": {},
     "output_type": "execute_result"
    }
   ],
   "source": [
    "df_hulu['Genres'].value_counts()"
   ]
  },
  {
   "cell_type": "markdown",
   "metadata": {},
   "source": [
    "#### Based on this data, documentaries are most likely to be streamed on Hulu."
   ]
  },
  {
   "cell_type": "code",
   "execution_count": 610,
   "metadata": {},
   "outputs": [
    {
     "data": {
      "image/png": "[encoded data removed]",
      "text/plain": [
       "<Figure size 432x288 with 1 Axes>"
      ]
     },
     "metadata": {
      "needs_background": "dark"
     },
     "output_type": "display_data"
    }
   ],
   "source": [
    "fig = plt.figure()\n",
    "ax = fig.add_axes([0,0,1,1])\n",
    "Genres = ['Documentary', 'Drama', 'Comedy,Drama', 'Comedy', 'Drama,Romance']\n",
    "Hulu_titles = [75,44,38,36,30]\n",
    "ax.bar(Genres, Hulu)\n",
    "plt.show()"
   ]
  },
  {
   "cell_type": "markdown",
   "metadata": {},
   "source": [
    "## Then Netflix's data. "
   ]
  },
  {
   "cell_type": "code",
   "execution_count": 611,
   "metadata": {},
   "outputs": [],
   "source": [
    "df_netflix = df[df['Netflix'] == 1]"
   ]
  },
  {
   "cell_type": "code",
   "execution_count": 612,
   "metadata": {},
   "outputs": [
    {
     "name": "stdout",
     "output_type": "stream",
     "text": [
      "{'English': 1624, 'Hindi': 252, 0: 178, 'Spanish': 148, 'English,Spanish': 67, 'French': 48, 'Japanese': 47, 'Arabic': 46, 'Hindi,English': 45, 'English,French': 45, 'Turkish': 44, 'Punjabi': 37, 'Malayalam': 36, 'Tamil': 31, 'Indonesian': 30, 'Thai': 27, 'Marathi': 24, 'Filipino,Tagalog': 22, 'Cantonese': 22, 'Portuguese': 21}\n"
     ]
    }
   ],
   "source": [
    "return_counter(df_netflix, 'Language', 20)"
   ]
  },
  {
   "cell_type": "code",
   "execution_count": 613,
   "metadata": {},
   "outputs": [
    {
     "data": {
      "text/plain": [
       "English                                                       1624\n",
       "Hindi                                                          252\n",
       "0                                                              178\n",
       "Spanish                                                        148\n",
       "English,Spanish                                                 67\n",
       "                                                              ... \n",
       "English,Turkmen,Cantonese,Italian,Spanish,Ukrainian,French       1\n",
       "Filipino,Tagalog,Japanese,Korean                                 1\n",
       "English,Cheyenne,French                                          1\n",
       "English,Russian,Hungarian,French,Turkish                         1\n",
       "English,Khmer                                                    1\n",
       "Name: Language, Length: 431, dtype: int64"
      ]
     },
     "execution_count": 613,
     "metadata": {},
     "output_type": "execute_result"
    }
   ],
   "source": [
    "df_netflix['Language'].value_counts()"
   ]
  },
  {
   "cell_type": "code",
   "execution_count": 614,
   "metadata": {},
   "outputs": [
    {
     "data": {
      "image/png": "[encoded data removed]",
      "text/plain": [
       "<Figure size 432x288 with 1 Axes>"
      ]
     },
     "metadata": {},
     "output_type": "display_data"
    }
   ],
   "source": [
    "fig = plt.figure()\n",
    "ax = fig.add_axes([0,0,1,1])\n",
    "ax.axis('equal')\n",
    "languages = ['English', 'Hindi', 'Not labeled', 'Spanish', 'English,Spanish']\n",
    "titles = [1624,252,178,148,67]\n",
    "ax.pie(titles, labels = languages,autopct='%1.2f%%')\n",
    "plt.show()"
   ]
  },
  {
   "cell_type": "code",
   "execution_count": 615,
   "metadata": {},
   "outputs": [
    {
     "name": "stdout",
     "output_type": "stream",
     "text": [
      "{'Comedy': 424, 'Drama': 259, 'Documentary': 241, 'Comedy,Drama': 129, 'Comedy,Drama,Romance': 100, 'Drama,Romance': 92, 0: 91, 'Comedy,Romance': 88, 'Documentary,Comedy': 57, 'Thriller': 46, 'Horror,Thriller': 43, 'Crime,Drama,Thriller': 40, 'Action,Thriller': 39, 'Drama,Thriller': 35, 'Horror': 30, 'Biography,Drama': 27, 'Action,Drama': 27, 'Horror,Mystery,Thriller': 26, 'Documentary,Music': 26, 'Action,Crime,Drama,Thriller': 25}\n"
     ]
    }
   ],
   "source": [
    "return_counter(df_netflix, 'Genres', 20)"
   ]
  },
  {
   "cell_type": "code",
   "execution_count": 616,
   "metadata": {},
   "outputs": [
    {
     "data": {
      "text/plain": [
       "Comedy                                           424\n",
       "Drama                                            259\n",
       "Documentary                                      241\n",
       "Comedy,Drama                                     129\n",
       "Comedy,Drama,Romance                             100\n",
       "                                                ... \n",
       "Drama,Fantasy,Thriller                             1\n",
       "Documentary,Biography,History,Music                1\n",
       "Action,Drama,History                               1\n",
       "Comedy,Drama,Romance,Sci-Fi,Thriller               1\n",
       "Action,Adventure,Comedy,Family,Fantasy,Sci-Fi      1\n",
       "Name: Genres, Length: 683, dtype: int64"
      ]
     },
     "execution_count": 616,
     "metadata": {},
     "output_type": "execute_result"
    }
   ],
   "source": [
    "df_netflix['Genres'].value_counts()"
   ]
  },
  {
   "cell_type": "markdown",
   "metadata": {},
   "source": [
    "#### Based on this data, comedy movies and/or tv shows are most likely to  stream on Netflix."
   ]
  },
  {
   "cell_type": "code",
   "execution_count": 617,
   "metadata": {
    "scrolled": true
   },
   "outputs": [
    {
     "data": {
      "image/png": "[encoded data removed]",
      "text/plain": [
       "<Figure size 432x288 with 1 Axes>"
      ]
     },
     "metadata": {
      "needs_background": "dark"
     },
     "output_type": "display_data"
    }
   ],
   "source": [
    "fig = plt.figure()\n",
    "ax = fig.add_axes([0,0,1,1])\n",
    "Genres = ['Comedy', 'Drama', 'Documentary', 'Comedy,Drama', 'Comedy,Drama,Romance']\n",
    "Netflix = [424,259,241,129,100]\n",
    "ax.bar(Genres, Netflix)\n",
    "plt.show()"
   ]
  },
  {
   "cell_type": "code",
   "execution_count": 618,
   "metadata": {},
   "outputs": [
    {
     "data": {
      "text/plain": [
       "Title       object\n",
       "Year         int64\n",
       "Netflix      int64\n",
       "Hulu         int64\n",
       "Genres      object\n",
       "Country     object\n",
       "Language    object\n",
       "dtype: object"
      ]
     },
     "execution_count": 618,
     "metadata": {},
     "output_type": "execute_result"
    }
   ],
   "source": [
    "df.dtypes"
   ]
  },
  {
   "cell_type": "code",
   "execution_count": 619,
   "metadata": {},
   "outputs": [
    {
     "data": {
      "text/plain": [
       "Title        object\n",
       "Year          int64\n",
       "Netflix       int64\n",
       "Hulu          int64\n",
       "Genres      float64\n",
       "Country      object\n",
       "Language    float64\n",
       "dtype: object"
      ]
     },
     "execution_count": 619,
     "metadata": {},
     "output_type": "execute_result"
    }
   ],
   "source": [
    "df[['Genres']] = df[['Genres']].apply(pd.to_numeric, errors ='coerce')\n",
    "df[['Language']] = df[['Language']].apply(pd.to_numeric, errors ='coerce')\n",
    "\n",
    "df.dtypes"
   ]
  },
  {
   "cell_type": "code",
   "execution_count": 620,
   "metadata": {},
   "outputs": [
    {
     "data": {
      "text/plain": [
       "Genres\n",
       "0                                               6\n",
       "Action                                          3\n",
       "Action,Adventure                                2\n",
       "Action,Adventure,Comedy                         3\n",
       "Action,Adventure,Comedy,Crime,Drama,Thriller    1\n",
       "                                               ..\n",
       "Short,Family                                    1\n",
       "Short,Western                                   1\n",
       "Talk-Show                                       1\n",
       "Thriller                                        5\n",
       "Western                                         2\n",
       "Name: Hulu, Length: 327, dtype: int64"
      ]
     },
     "execution_count": 620,
     "metadata": {},
     "output_type": "execute_result"
    }
   ],
   "source": [
    "df_hulu = df_hulu.groupby('Genres')['Hulu'].sum()\n",
    "df_hulu"
   ]
  },
  {
   "cell_type": "code",
   "execution_count": 621,
   "metadata": {},
   "outputs": [
    {
     "data": {
      "text/plain": [
       "Genres\n",
       "0                                           91\n",
       "Action                                      19\n",
       "Action,Adventure                             7\n",
       "Action,Adventure,Biography,Drama,History     1\n",
       "Action,Adventure,Comedy                      8\n",
       "                                            ..\n",
       "Short,War                                    1\n",
       "Sport                                        3\n",
       "Talk-Show                                    3\n",
       "Thriller                                    46\n",
       "Western                                      4\n",
       "Name: Netflix, Length: 683, dtype: int64"
      ]
     },
     "execution_count": 621,
     "metadata": {},
     "output_type": "execute_result"
    }
   ],
   "source": [
    "df_netflix = df_netflix.groupby('Genres')['Netflix'].sum()\n",
    "df_netflix"
   ]
  },
  {
   "cell_type": "code",
   "execution_count": 622,
   "metadata": {},
   "outputs": [
    {
     "name": "stdout",
     "output_type": "stream",
     "text": [
      "{0.0: 275, nan: 1, nan: 1, nan: 1, nan: 1, nan: 1, nan: 1, nan: 1, nan: 1, nan: 1, nan: 1, nan: 1, nan: 1, nan: 1, nan: 1, nan: 1, nan: 1, nan: 1, nan: 1, nan: 1}\n"
     ]
    }
   ],
   "source": [
    "return_counter(df, 'Genres', 20)"
   ]
  },
  {
   "cell_type": "code",
   "execution_count": 623,
   "metadata": {},
   "outputs": [
    {
     "data": {
      "text/plain": [
       "0.0    275\n",
       "Name: Genres, dtype: int64"
      ]
     },
     "execution_count": 623,
     "metadata": {},
     "output_type": "execute_result"
    }
   ],
   "source": [
    "df['Genres'].value_counts()"
   ]
  },
  {
   "cell_type": "code",
   "execution_count": 624,
   "metadata": {},
   "outputs": [
    {
     "data": {
      "image/png": "[encoded data removed]",
      "text/plain": [
       "<Figure size 432x288 with 1 Axes>"
      ]
     },
     "metadata": {
      "needs_background": "dark"
     },
     "output_type": "display_data"
    }
   ],
   "source": [
    "N = 5\n",
    "df_hulu = (75, 44, 38, 36, 30)\n",
    "df_netflix = (424, 259, 241, 129, 100)\n",
    "Genres = (2, 3, 4, 1, 2)\n",
    "Language = (3, 5, 2, 3, 3)\n",
    "ind = np.arange(N)    # the x locations for the groups\n",
    "width = 0.5       # the width of the bars: can also be len(x) sequence\n",
    "\n",
    "p1 = plt.bar(ind, Netflix, width, yerr=Netflix)\n",
    "p2 = plt.bar(ind, Hulu, width,\n",
    "             bottom=Netflix, yerr=Hulu)\n",
    "\n",
    "plt.ylabel('Titles')\n",
    "plt.title('Titles by Genres')\n",
    "plt.xticks(ind, ('Drama', 'Documentary ', 'Comedy', 'Comedy,Drama', 'Horror'))\n",
    "plt.yticks(np.arange(0, 81, 10))\n",
    "plt.legend((p1[0], p2[0]), ('Netflix', 'Hulu'))\n",
    "\n",
    "plt.show()"
   ]
  },
  {
   "cell_type": "markdown",
   "metadata": {},
   "source": [
    "#### It is evident that, Netflix has more users than Hulu. In conclusion, directors decide where to stream depending on their type of viewers. Comedy movies are more likely to be streamed on Netflix while documentaries are more likely to be streamed on Hulu. The top genres on both streaming services are drama, documentaries and comedies, followed by horror movies/shows.\n",
    "\n",
    "##### While doing this project, I encounted a few challenges. For starters, this data is constantly being updated because new movies/shows are being added or removed. Especially on Hulu. Another challenge was that these movies/shows are labeled under more than one genre. For this reason, I included the languages that Netflix and Hulu provides their movies/shows in. English are the popular languages on both (no surprise!), while Hindi comes in second on  Netflix followed by Spanish. Hulu on the other hand, only has a few Spanish movies/shows followed by Japanese movies/shows. \n",
    "\n",
    "#### I created my presentation slides directly from my Jupyter Notebook.\n",
    "\n",
    "## Thank you"
   ]
  },
  {
   "cell_type": "code",
   "execution_count": null,
   "metadata": {},
   "outputs": [],
   "source": []
  }
 ],
 "metadata": {
  "kernelspec": {
   "display_name": "Python 3",
   "language": "python",
   "name": "python3"
  },
  "language_info": {
   "codemirror_mode": {
    "name": "ipython",
    "version": 3
   },
   "file_extension": ".py",
   "mimetype": "text/x-python",
   "name": "python",
   "nbconvert_exporter": "python",
   "pygments_lexer": "ipython3",
   "version": "3.7.6"
  }
 },
 "nbformat": 4,
 "nbformat_minor": 4
}
